{
  "nbformat": 4,
  "nbformat_minor": 0,
  "metadata": {
    "colab": {
      "provenance": []
    },
    "kernelspec": {
      "name": "python3",
      "display_name": "Python 3"
    },
    "language_info": {
      "name": "python"
    }
  },
  "cells": [
    {
      "cell_type": "markdown",
      "source": [
        "CRUD Method, Create, Read, Update, Delete"
      ],
      "metadata": {
        "id": "N_rs-Wel4-2h"
      }
    },
    {
      "cell_type": "markdown",
      "source": [
        "Data structures"
      ],
      "metadata": {
        "id": "bJ629AoZBOCn"
      }
    },
    {
      "cell_type": "code",
      "source": [
        "#User data structure\n",
        " {\n",
        "  \"id\": \"uuid\",\n",
        "  \"name\": \"string\",\n",
        "  \"email\": \"string\",\n",
        "  \"password_hash\": \"string\",\n",
        "  \"houses\": [\"house_id1\", \"house_id2\"]\n",
        "}\n",
        "#House data structure\n",
        "{\n",
        "  \"id\": \"uuid\",\n",
        "  \"address\": \"string\",\n",
        "  \"owner_id\": \"uuid\",\n",
        "  \"rooms\": [\"room_id1\", \"room_id2\", \"room_id3\"]\n",
        "}\n",
        "#Room data structure\n",
        "{\n",
        "  \"id\": \"uuid\",\n",
        "  \"address\": \"string\",\n",
        "  \"owner_id\": \"uuid\",\n",
        "  \"rooms\": [\"room_id1\", \"room_id2\", \"room_id3\"]\n",
        "}\n",
        "\n",
        "#Device data structure\n",
        "{\n",
        "  \"id\": \"uuid\",\n",
        "  \"type\": \"string\",\n",
        "  \"room_id\": \"uuid\",\n",
        "  \"status\": \"on/off\",\n",
        "  \"metadata\": {}\n",
        "}\n"
      ],
      "metadata": {
        "id": "oUMrH1FOsEgO"
      },
      "execution_count": null,
      "outputs": []
    },
    {
      "cell_type": "code",
      "source": [
        "from flask import Flask, jsonify, request\n",
        "import uuid\n",
        "\n",
        "app = Flask(__name__)\n",
        "\n",
        "# Dummy Data\n",
        "users = {}\n",
        "\n",
        "\n",
        "@app.route('/users', methods=['POST'])\n",
        "def create_user():\n",
        "    data = request.json\n",
        "    user_id = str(uuid.uuid4())\n",
        "    users[user_id] = {\n",
        "        \"id\": user_id,\n",
        "        \"name\": data.get(\"name\"),\n",
        "        \"email\": data.get(\"email\")\n",
        "    }\n",
        "    return jsonify(users[user_id]), 201\n",
        "\n",
        "@app.route('/users/<id>', methods=['GET'])\n",
        "def get_user(id):\n",
        "    return jsonify(users.get(id, {\"error\": \"User not found\"}))\n",
        "\n",
        "def home():\n",
        "    return \"Hello, User!\"\n",
        "\n",
        "\n",
        "if __name__ == '__main__':\n",
        "    app.run(debug=True)\n"
      ],
      "metadata": {
        "id": "w6KSUQpi0p3i"
      },
      "execution_count": null,
      "outputs": []
    },
    {
      "cell_type": "markdown",
      "source": [
        "Error handling"
      ],
      "metadata": {
        "id": "9IbsJI_EyZgD"
      }
    },
    {
      "cell_type": "code",
      "source": [
        "from flask import Flask, request, jsonify\n",
        "import uuid\n",
        "import re\n",
        "\n",
        "app = Flask(__name__)\n",
        "\n",
        "# Dummy Storage\n",
        "users = {}\n",
        "houses = {}\n",
        "rooms = {}\n",
        "devices = {}\n",
        "\n",
        "def is_valid_email(email):\n",
        "    return re.match(r\"[^@]+@[^@]+\\.[^@]+\", email)\n",
        "\n",
        "@app.route('/users', methods=['POST'])\n",
        "def create_user():\n",
        "    data = request.json\n",
        "    if not data or \"name\" not in data or \"email\" not in data:\n",
        "        return jsonify({\"error\": \"Missing required fields\"}), 400\n",
        "    if not is_valid_email(data[\"email\"]):\n",
        "        return jsonify({\"error\": \"Invalid email format\"}), 400\n",
        "\n",
        "    user_id = str(uuid.uuid4())\n",
        "    users[user_id] = {\n",
        "        \"id\": user_id,\n",
        "        \"name\": data[\"name\"],\n",
        "        \"email\": data[\"email\"]\n",
        "    }\n",
        "    return jsonify(users[user_id]), 201\n",
        "\n",
        "@app.route('/users/<id>', methods=['GET'])\n",
        "def get_user(id):\n",
        "    if id not in users:\n",
        "        return jsonify({\"error\": \"User not found\"}), 404\n",
        "    return jsonify(users[id])\n",
        "\n",
        "@app.route('/users/<id>', methods=['DELETE'])\n",
        "def delete_user(id):\n",
        "    if id not in users:\n",
        "        return jsonify({\"error\": \"User not found\"}), 404\n",
        "    del users[id]\n",
        "    return jsonify({\"message\": \"User deleted\"}), 200\n",
        "\n",
        "if __name__ == '__main__':\n",
        "    app.run(debug=True)\n"
      ],
      "metadata": {
        "id": "dokjQYRKyawo"
      },
      "execution_count": null,
      "outputs": []
    },
    {
      "cell_type": "markdown",
      "source": [
        "Unit Testing"
      ],
      "metadata": {
        "id": "_933dgx-0tZY"
      }
    },
    {
      "cell_type": "code",
      "source": [
        "#Unit Testing\n",
        "import pytest\n",
        "from app import app\n",
        "\n",
        "@pytest.fixture\n",
        "def client():\n",
        "    app.config['TESTING'] = True\n",
        "    with app.test_client() as client:\n",
        "        yield client\n",
        "\n",
        "def test_create_user_success(client):\n",
        "    response = client.post('/users', json={\"name\": \"Alice\", \"email\": \"alice@example.com\"})\n",
        "    assert response.status_code == 201\n",
        "\n",
        "def test_create_user_invalid_email(client):\n",
        "    response = client.post('/users', json={\"name\": \"Alice\", \"email\": \"wrongemail\"})\n",
        "    assert response.status_code == 400\n",
        "    assert response.get_json() == {\"error\": \"Invalid email format\"}\n",
        "\n",
        "def test_get_user_not_found(client):\n",
        "    response = client.get('/users/nonexistent_id')\n",
        "    assert response.status_code == 404\n"
      ],
      "metadata": {
        "id": "DML0NQw7yqJU"
      },
      "execution_count": null,
      "outputs": []
    }
  ]
}